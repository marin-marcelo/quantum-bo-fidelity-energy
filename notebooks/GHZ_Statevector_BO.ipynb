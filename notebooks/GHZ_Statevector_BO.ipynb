{
 "cells": [
  {
   "cell_type": "markdown",
   "metadata": {},
   "source": [
    "# Quantum Optimal control through Bayesian Optimisation on fidelity\n",
    "### Preparation of the Greenberger–Horne–Zeilinger state (GHZ state)\n",
    "\n",
    "\n",
    "In this notebook we address the task of creating the GHZ state $\\frac{|000\\rangle +|111\\rangle}{\\sqrt{2}}$ by optimising on the fidelity"
   ]
  },
  {
   "cell_type": "code",
   "execution_count": 1,
   "metadata": {},
   "outputs": [],
   "source": [
    "#Import libraries\n",
    "import torch\n",
    "from matplotlib import pyplot as plt\n",
    "from qiskit import QuantumCircuit\n",
    "import numpy as np\n",
    "from math import pi\n",
    "import matplotlib.pylab as plt\n",
    "from itertools import product\n",
    "from qiskit.quantum_info import Operator\n",
    "from tqdm.auto import tqdm\n",
    "import warnings\n",
    "warnings.filterwarnings(\"ignore\")\n",
    "import sys\n",
    "sys.path.insert(1, '../src/')\n",
    "from utils.functions import *\n",
    "\n"
   ]
  },
  {
   "cell_type": "markdown",
   "metadata": {},
   "source": [
    "In the following cell we define the circuit with which we seek to prepare our target state GHZ, in the same cell we can also modify the target state that we seek to prepare and the initial state. <br />\n",
    "In this case, fidelity is represented with a single surrogate model"
   ]
  },
  {
   "cell_type": "code",
   "execution_count": 2,
   "metadata": {},
   "outputs": [
    {
     "data": {
      "image/png": "[encoded data removed]",
      "text/plain": [
       "<Figure size 621.941x284.278 with 1 Axes>"
      ]
     },
     "execution_count": 2,
     "metadata": {},
     "output_type": "execute_result"
    }
   ],
   "source": [
    "def create_controlled_ghz_circuit(thetas, initial_state):\n",
    "  \n",
    "    circ = QuantumCircuit(3)\n",
    "    # Initialize qubits with the specified state\n",
    "    circ.initialize(initial_state, [0,1,2])\n",
    "    \n",
    "    circ.ry(thetas[0,0], 0)\n",
    "    circ.ry(thetas[0,1], 1)\n",
    "    circ.ry(thetas[0,2], 2)\n",
    "    circ.cx(0, 1)\n",
    "    circ.cx(0, 2)\n",
    "    circ.rx(thetas[0,3], 0)\n",
    "    circ.rx(thetas[0,4], 1)\n",
    "    circ.rx(thetas[0,5], 2)\n",
    "\n",
    "    return circ\n",
    "target_state = np.array([1 , 0, 0, 0, 0, 0, 0, 1])/np.sqrt(2)\n",
    "#target_state = np.array([1 , 0, 0, 0, 0, 0, 0, 1.01]) *np.sqrt((100**2)/((100**2 + 101**2))  )\n",
    "initial_state = np.array([1, 0, 0, 0, 0, 0, 0, 0])\n",
    "n_thetas = 6 #Number of parameters\n",
    "\n",
    "\n",
    "ghz_visualization = create_controlled_ghz_circuit(np.zeros(n_thetas)[np.newaxis,:],initial_state)\n",
    "coefficients, num_qubits = get_coefficients(target_state, ghz_visualization.num_qubits)\n",
    "coefficients_array = np.array([coefficients[k] for k in list(coefficients.keys())])\n",
    "\n",
    "ghz_visualization.draw('mpl')"
   ]
  },
  {
   "cell_type": "code",
   "execution_count": 3,
   "metadata": {},
   "outputs": [],
   "source": [
    "ghz_contr_circuit = create_controlled_ghz_circuit\n",
    "n_surrogates_models = len(coefficients)\n",
    "\n",
    "#If you want to estimate the performance with a set of test of the surrogate models, it is recommended to use the lines that contain the word \"test\"\n",
    "#they are commented to reduce the computational cost.\n",
    "#n_test_samples = 100\n",
    "#X_test, y_test_expectation_values, y_test_fidelities = get_real_samples(ghz_contr_circuit, n_test_samples, n_thetas, initial_state, target_state)\n"
   ]
  },
  {
   "cell_type": "markdown",
   "metadata": {},
   "source": [
    "Main parameters of the BO"
   ]
  },
  {
   "cell_type": "code",
   "execution_count": 4,
   "metadata": {},
   "outputs": [],
   "source": [
    "#Generate initial samples\n",
    "n_initial_samples = 100\n",
    "#Number of time to run the BO\n",
    "n_run = 1\n",
    "\n",
    "#Number of iterations of one BO\n",
    "n_BO = 10\n",
    "\n",
    "\n",
    "#Parameter of the function of adquisicion\n",
    "beta = 0.1"
   ]
  },
  {
   "cell_type": "code",
   "execution_count": 5,
   "metadata": {},
   "outputs": [
    {
     "name": "stdout",
     "output_type": "stream",
     "text": [
      "run  1\n"
     ]
    },
    {
     "data": {
      "application/vnd.jupyter.widget-view+json": {
       "model_id": "374f67bb76f24426abb5b3492be68b9c",
       "version_major": 2,
       "version_minor": 0
      },
      "text/plain": [
       "  0%|          | 0/10 [00:00<?, ?it/s]"
      ]
     },
     "metadata": {},
     "output_type": "display_data"
    }
   ],
   "source": [
    "\n",
    "n_BO +=1\n",
    "history_best_fidelity_runs = np.zeros((n_run,n_BO))\n",
    "best_fidelity_runs = np.zeros(n_run)\n",
    "best_thetas_runs = np.zeros((n_run, n_thetas))\n",
    "n_samples_acquisition_fx = 1000\n",
    "params = {'training_iter': 10, 'learning_rate':0.1, 'initial_noise':1e-8, 'initial_lengthscale':0.9, 'initial_output_scale': 1, 'scaler_target': None, #'StandardScaler'\n",
    "            'verbose':False }\n",
    "bounds = torch.stack([torch.zeros(n_thetas), 2*pi*torch.ones(n_thetas)])  \n",
    "\n",
    "\n",
    "for iter_run in range(n_run):\n",
    "    X_initial_thetas, _, fidelities_initial = get_real_samples(ghz_contr_circuit, n_initial_samples, n_thetas, initial_state, target_state, type_sampling='Random_Uniform')\n",
    "\n",
    "    print('run ', iter_run+1)\n",
    "\n",
    "    history_best_fidelity = []\n",
    "    mean_metrics = {'mean_MSE_fidelity_train':np.zeros(n_BO),'mean_MSE_fidelity_test':np.zeros(n_BO),\n",
    "                    'mean_loss_train':np.zeros(n_BO), 'mean_loss_test':np.zeros(n_BO)}\n",
    "    history_thetas = np.zeros((n_BO,n_thetas))\n",
    "\n",
    "\n",
    "    #Store real data\n",
    "    X_train, y_train_fidelities = X_initial_thetas, fidelities_initial\n",
    "\n",
    "    #train model and save variables of training\n",
    "    surrogate_models = {'gp_model':[], 'likelihood':[], 'scaler_target':[]}\n",
    "    gp_model, ll, metrics, scaler_y = train_surrogate_models_gp((X_train, y_train_fidelities, [], [], params))\n",
    "    surrogate_models['gp_model'].append(gp_model)\n",
    "    surrogate_models['likelihood'].append(ll)\n",
    "    surrogate_models['scaler_target'].append(scaler_y)\n",
    "    #metrics_models['model_'+str(j)] = metrics\n",
    "\n",
    "    #Best fidelity\n",
    "    idx_best_real_fidelity = np.argmax(y_train_fidelities)\n",
    "    best_fidelity = y_train_fidelities[idx_best_real_fidelity]\n",
    "    best_thetas = X_train[idx_best_real_fidelity]\n",
    "    history_best_fidelity.append(best_fidelity)\n",
    "\n",
    "    params_predict = {'scaler_target':scaler_y} \n",
    "    iter_BO = 0\n",
    "    mean_metrics['mean_MSE_fidelity_train'][iter_BO] = metrics['MSE_train'][-1]\n",
    "    #mean_metrics['mean_MSE_fidelity_test'][iter_BO] = metrics['MSE_test'][-1]\n",
    "    mean_metrics['mean_loss_train'][iter_BO] = metrics['loss_train'][-1]\n",
    "    #mean_metrics['mean_loss_test'][iter_BO] = metrics['loss_test'][-1]\n",
    "\n",
    "\n",
    "    pbar = tqdm(range(1,n_BO))\n",
    "    for iter_BO in pbar:\n",
    "\n",
    "\n",
    "        # Generate new angles samples\n",
    "      \n",
    "        wrapped_gp_model = WrappedGPyTorchModelMonoGP(gp_model)\n",
    "        fx_acq = UpperConfidenceBound(wrapped_gp_model, beta=beta )\n",
    "\n",
    "\n",
    "        fx_acq.model.eval()\n",
    "\n",
    "        candidate, acq_value = optimize_acqf(\n",
    "            acq_function=fx_acq,\n",
    "            bounds=bounds,\n",
    "            q=1,\n",
    "            num_restarts=5,\n",
    "            raw_samples=n_samples_acquisition_fx)\n",
    "        \n",
    "        new_sample = np.array(candidate).squeeze(0)\n",
    "\n",
    "\n",
    "        #Get the fidelity for the proposed angle\n",
    "        _, new_fid_real, _ = get_expectation_values(ghz_contr_circuit, new_sample[np.newaxis,:],initial_state, target_state) #Get the real values\n",
    "\n",
    "        #Add new data to known X_theta, y_real_expectation_values and y_real_fidelity\n",
    "        X_train = np.vstack((X_train,new_sample[np.newaxis,:]))\n",
    "        y_train_fidelities = np.hstack((y_train_fidelities, new_fid_real))\n",
    "\n",
    "        #Check if the new fidelity is best than the current best fidelity\n",
    "        if new_fid_real>best_fidelity:\n",
    "            best_fidelity = new_fid_real\n",
    "            best_thetas = new_sample\n",
    "            \n",
    "        history_best_fidelity.append(best_fidelity)\n",
    "        history_thetas[iter_BO] = best_thetas\n",
    "\n",
    "        \n",
    "        gp_model, ll, metrics, scaler_y = train_surrogate_models_gp((X_train, y_train_fidelities, [], [], params))\n",
    "\n",
    "        params_predict = {'scaler_target':scaler_y} \n",
    "        \n",
    "        mean_metrics['mean_MSE_fidelity_train'][iter_BO] = metrics['MSE_train'][-1]\n",
    "        #mean_metrics['mean_MSE_fidelity_test'][iter_BO] = metrics['MSE_test'][-1]\n",
    "        mean_metrics['mean_loss_train'][iter_BO] = metrics['loss_train'][-1]\n",
    "        #mean_metrics['mean_loss_test'][iter_BO] = metrics['loss_test'][-1]\n",
    "\n",
    "        pbar.set_description('Current best Infidelity {}'.format(np.round(1-best_fidelity, 9)))\n",
    "\n",
    "    history_best_fidelity_runs[iter_run] = history_best_fidelity\n",
    "    best_fidelity_runs[iter_run] = best_fidelity\n",
    "    best_thetas_runs[iter_run] = best_thetas"
   ]
  },
  {
   "cell_type": "code",
   "execution_count": 6,
   "metadata": {},
   "outputs": [
    {
     "name": "stderr",
     "output_type": "stream",
     "text": [
      "No artists with labels found to put in legend.  Note that artists whose label start with an underscore are ignored when legend() is called with no argument.\n"
     ]
    },
    {
     "data": {
      "image/png": "[encoded data removed]",
      "text/plain": [
       "<Figure size 640x480 with 1 Axes>"
      ]
     },
     "metadata": {},
     "output_type": "display_data"
    },
    {
     "name": "stdout",
     "output_type": "stream",
     "text": [
      "Best infidelity:  0.003238415411367712\n",
      "Best angles founded:  [1.4836973 0.        3.208139  0.        0.        3.1725416]\n"
     ]
    }
   ],
   "source": [
    "plt.plot(np.arange(n_BO),1-np.array(history_best_fidelity),'-o', linewidth=1.3)\n",
    "plt.ylabel('Infidelity')\n",
    "plt.xlabel('Number of iterations')\n",
    "plt.yscale('log')\n",
    "plt.title('GHZ state infidelity during Bayesian Optimization')\n",
    "plt.legend()\n",
    "plt.show()\n",
    "print('Best infidelity: ', 1- best_fidelity)\n",
    "print('Best angles founded: ', best_thetas)"
   ]
  },
  {
   "cell_type": "code",
   "execution_count": 7,
   "metadata": {},
   "outputs": [],
   "source": [
    "#Save data generated\n",
    "data_plot = {   'history_best_fidelity_runs':history_best_fidelity_runs,\n",
    "                'best_thetas_runs': best_thetas_runs,\n",
    "                'best_fidelity_runs':best_fidelity_runs, \n",
    "                'history_best_fidelity':history_best_fidelity, \n",
    "                'best_thetas':best_thetas,\n",
    "                'best_fidelity':best_fidelity, \n",
    "                'n_samples_acquisition_fx':n_samples_acquisition_fx,\n",
    "                'n_BO': n_BO,\n",
    "                'learning_rate': params['learning_rate'],\n",
    "                'initial_noise': params['initial_noise'],\n",
    "                'scaler_target': params['scaler_target'],\n",
    "                'n_initial_samples': n_initial_samples,\n",
    "                'mean_MSE_fidelity_train':mean_metrics['mean_MSE_fidelity_train'],\n",
    "                'mean_loss_train': mean_metrics['mean_loss_train'],\n",
    "                'type_acq_function': str(fx_acq), \n",
    "                'target_state': target_state,\n",
    "             }\n",
    "\n",
    "if True:\n",
    "    with open(\"../results/qoc/results_ghz_statevector.json\", \"w\") as outfile: \n",
    "        json.dump(data_plot, outfile, cls=CustomEncoder)"
   ]
  },
  {
   "cell_type": "code",
   "execution_count": null,
   "metadata": {},
   "outputs": [],
   "source": []
  }
 ],
 "metadata": {
  "kernelspec": {
   "display_name": "QML_env",
   "language": "python",
   "name": "python3"
  },
  "language_info": {
   "codemirror_mode": {
    "name": "ipython",
    "version": 3
   },
   "file_extension": ".py",
   "mimetype": "text/x-python",
   "name": "python",
   "nbconvert_exporter": "python",
   "pygments_lexer": "ipython3",
   "version": "3.12.0"
  }
 },
 "nbformat": 4,
 "nbformat_minor": 2
}
